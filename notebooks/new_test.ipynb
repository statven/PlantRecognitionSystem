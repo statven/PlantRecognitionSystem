{
 "cells": [
  {
   "cell_type": "code",
   "execution_count": null,
   "id": "44d0722d",
   "metadata": {},
   "outputs": [],
   "source": []
  },
  {
   "cell_type": "markdown",
   "id": "35c88fda",
   "metadata": {},
   "source": [
    "# Plant Recognition - Inference with Quantized TFLite Model\n",
    "This notebook demonstrates how to run inference on new images \n",
    "using the quantized EfficientNetB0 TFLite model."
   ]
  },
  {
   "cell_type": "code",
   "execution_count": 1,
   "id": "91255596",
   "metadata": {},
   "outputs": [],
   "source": [
    "# Core libraries\n",
    "import os\n",
    "import cv2\n",
    "import numpy as np\n",
    "import tensorflow as tf\n",
    "import json\n",
    "import matplotlib.pyplot as plt\n",
    "from tensorflow.keras.applications.efficientnet import preprocess_input\n"
   ]
  },
  {
   "cell_type": "markdown",
   "id": "44232b26",
   "metadata": {},
   "source": [
    "## Configuration\n"
   ]
  },
  {
   "cell_type": "code",
   "execution_count": 2,
   "id": "44c2539c",
   "metadata": {},
   "outputs": [
    {
     "ename": "FileNotFoundError",
     "evalue": "[Errno 2] No such file or directory: 'data/processed/class_indices.json'",
     "output_type": "error",
     "traceback": [
      "\u001b[31m---------------------------------------------------------------------------\u001b[39m",
      "\u001b[31mFileNotFoundError\u001b[39m                         Traceback (most recent call last)",
      "\u001b[36mCell\u001b[39m\u001b[36m \u001b[39m\u001b[32mIn[2]\u001b[39m\u001b[32m, line 6\u001b[39m\n\u001b[32m      3\u001b[39m TEST_DIR = \u001b[33m'\u001b[39m\u001b[33mdata/new_test_images\u001b[39m\u001b[33m'\u001b[39m\n\u001b[32m      5\u001b[39m \u001b[38;5;66;03m# ## Load class names\u001b[39;00m\n\u001b[32m----> \u001b[39m\u001b[32m6\u001b[39m \u001b[38;5;28;01mwith\u001b[39;00m \u001b[38;5;28;43mopen\u001b[39;49m\u001b[43m(\u001b[49m\u001b[33;43m'\u001b[39;49m\u001b[33;43mdata/processed/class_indices.json\u001b[39;49m\u001b[33;43m'\u001b[39;49m\u001b[43m,\u001b[49m\u001b[43m \u001b[49m\u001b[33;43m'\u001b[39;49m\u001b[33;43mr\u001b[39;49m\u001b[33;43m'\u001b[39;49m\u001b[43m)\u001b[49m \u001b[38;5;28;01mas\u001b[39;00m f:\n\u001b[32m      7\u001b[39m     class_indices = json.load(f)\n\u001b[32m      8\u001b[39m     CLASS_NAMES = \u001b[38;5;28mlist\u001b[39m(class_indices.keys())\n",
      "\u001b[36mFile \u001b[39m\u001b[32m~\\AppData\\Local\\Packages\\PythonSoftwareFoundation.Python.3.11_qbz5n2kfra8p0\\LocalCache\\local-packages\\Python311\\site-packages\\IPython\\core\\interactiveshell.py:326\u001b[39m, in \u001b[36m_modified_open\u001b[39m\u001b[34m(file, *args, **kwargs)\u001b[39m\n\u001b[32m    319\u001b[39m \u001b[38;5;28;01mif\u001b[39;00m file \u001b[38;5;129;01min\u001b[39;00m {\u001b[32m0\u001b[39m, \u001b[32m1\u001b[39m, \u001b[32m2\u001b[39m}:\n\u001b[32m    320\u001b[39m     \u001b[38;5;28;01mraise\u001b[39;00m \u001b[38;5;167;01mValueError\u001b[39;00m(\n\u001b[32m    321\u001b[39m         \u001b[33mf\u001b[39m\u001b[33m\"\u001b[39m\u001b[33mIPython won\u001b[39m\u001b[33m'\u001b[39m\u001b[33mt let you open fd=\u001b[39m\u001b[38;5;132;01m{\u001b[39;00mfile\u001b[38;5;132;01m}\u001b[39;00m\u001b[33m by default \u001b[39m\u001b[33m\"\u001b[39m\n\u001b[32m    322\u001b[39m         \u001b[33m\"\u001b[39m\u001b[33mas it is likely to crash IPython. If you know what you are doing, \u001b[39m\u001b[33m\"\u001b[39m\n\u001b[32m    323\u001b[39m         \u001b[33m\"\u001b[39m\u001b[33myou can use builtins\u001b[39m\u001b[33m'\u001b[39m\u001b[33m open.\u001b[39m\u001b[33m\"\u001b[39m\n\u001b[32m    324\u001b[39m     )\n\u001b[32m--> \u001b[39m\u001b[32m326\u001b[39m \u001b[38;5;28;01mreturn\u001b[39;00m \u001b[43mio_open\u001b[49m\u001b[43m(\u001b[49m\u001b[43mfile\u001b[49m\u001b[43m,\u001b[49m\u001b[43m \u001b[49m\u001b[43m*\u001b[49m\u001b[43margs\u001b[49m\u001b[43m,\u001b[49m\u001b[43m \u001b[49m\u001b[43m*\u001b[49m\u001b[43m*\u001b[49m\u001b[43mkwargs\u001b[49m\u001b[43m)\u001b[49m\n",
      "\u001b[31mFileNotFoundError\u001b[39m: [Errno 2] No such file or directory: 'data/processed/class_indices.json'"
     ]
    }
   ],
   "source": [
    "MODEL_PATH = 'models/model_quant.tflite'\n",
    "IMG_SIZE = (224, 224)\n",
    "TEST_DIR = 'data/new_test_images'\n",
    "\n",
    "# ## Load class names\n",
    "with open('data/processed/class_indices.json', 'r') as f:\n",
    "    class_indices = json.load(f)\n",
    "    CLASS_NAMES = list(class_indices.keys())\n",
    "\n",
    "print(f\"Loaded {len(CLASS_NAMES)} classes: {CLASS_NAMES}\")"
   ]
  },
  {
   "cell_type": "markdown",
   "id": "1121992a",
   "metadata": {},
   "source": [
    "## Load TFLite model\n"
   ]
  },
  {
   "cell_type": "code",
   "execution_count": null,
   "id": "b03ba0b2",
   "metadata": {},
   "outputs": [],
   "source": [
    "interpreter = tf.lite.Interpreter(model_path=MODEL_PATH)\n",
    "interpreter.allocate_tensors()\n",
    "input_details = interpreter.get_input_details()\n",
    "output_details = interpreter.get_output_details()\n",
    "\n",
    "print(\"\\nModel input details:\", input_details[0])\n",
    "print(\"Model output details:\", output_details[0])"
   ]
  },
  {
   "cell_type": "markdown",
   "id": "5df734c9",
   "metadata": {},
   "source": [
    "## Prediction function"
   ]
  },
  {
   "cell_type": "code",
   "execution_count": null,
   "id": "f09b64d9",
   "metadata": {},
   "outputs": [
    {
     "name": "stdout",
     "output_type": "stream",
     "text": [
      "Found 3658 images belonging to 9 classes.\n",
      "Found 785 images belonging to 9 classes.\n",
      "Found 785 images belonging to 9 classes.\n"
     ]
    }
   ],
   "source": [
    "def predict_image(image_path):\n",
    "    img = cv2.imread(image_path)\n",
    "    if img is None:\n",
    "        return \"Error: Could not read image\", 0.0, None\n",
    "    \n",
    "    img = cv2.cvtColor(img, cv2.COLOR_BGR2RGB)\n",
    "    img_resized = cv2.resize(img, IMG_SIZE)\n",
    "    input_data = preprocess_input(np.expand_dims(img_resized, axis=0).astype(np.float32)).astype(np.uint8)\n",
    "    \n",
    "    interpreter.set_tensor(input_details[0]['index'], input_data)\n",
    "    interpreter.invoke()\n",
    "    output_data = interpreter.get_tensor(output_details[0]['index'])\n",
    "    \n",
    "    # Dequantize output\n",
    "    scale, zero_point = output_details[0]['quantization']\n",
    "    output_data = (output_data.astype(np.float32) - zero_point) * scale\n",
    "    \n",
    "    predicted_idx = np.argmax(output_data)\n",
    "    confidence = output_data[0][predicted_idx]\n",
    "    \n",
    "    class_name = CLASS_NAMES[predicted_idx] if predicted_idx < len(CLASS_NAMES) else f\"Unknown class {predicted_idx}\"\n",
    "    return class_name, confidence, img"
   ]
  },
  {
   "cell_type": "markdown",
   "id": "365006d7",
   "metadata": {},
   "source": [
    "## Run inference on test images"
   ]
  },
  {
   "cell_type": "markdown",
   "id": "d74e2ec2",
   "metadata": {},
   "source": [
    "## Model Definition\n"
   ]
  },
  {
   "cell_type": "code",
   "execution_count": null,
   "id": "4b3efe17",
   "metadata": {},
   "outputs": [],
   "source": [
    "if not os.path.exists(TEST_DIR):\n",
    "    os.makedirs(TEST_DIR)\n",
    "    print(f\"Created test directory: {TEST_DIR}\")\n",
    "    print(\"Please add some test images (JPG/PNG) and rerun.\")\n",
    "else:\n",
    "    valid_files = [f for f in os.listdir(TEST_DIR) if f.lower().endswith(('.png', '.jpg', '.jpeg'))]\n",
    "    \n",
    "    if not valid_files:\n",
    "        print(\"No test images found. Add JPG/PNG files to the test directory.\")\n",
    "    else:\n",
    "        plt.figure(figsize=(15, 10))\n",
    "        \n",
    "        for i, filename in enumerate(valid_files):\n",
    "            img_path = os.path.join(TEST_DIR, filename)\n",
    "            class_name, confidence, img = predict_image(img_path)\n",
    "            \n",
    "            plt.subplot(2, 3, i+1)\n",
    "            plt.imshow(img)\n",
    "            plt.title(f\"{filename}\\nPred: {class_name}\\nConf: {confidence*100:.1f}%\", fontsize=10)\n",
    "            plt.axis('off')\n",
    "            \n",
    "            print(f\"{filename} -> {class_name} ({confidence:.4f})\")\n",
    "        \n",
    "        plt.tight_layout()\n",
    "        plt.savefig('models/new_images_test.png')\n",
    "        plt.show()"
   ]
  }
 ],
 "metadata": {
  "kernelspec": {
   "display_name": "Python 3",
   "language": "python",
   "name": "python3"
  },
  "language_info": {
   "codemirror_mode": {
    "name": "ipython",
    "version": 3
   },
   "file_extension": ".py",
   "mimetype": "text/x-python",
   "name": "python",
   "nbconvert_exporter": "python",
   "pygments_lexer": "ipython3",
   "version": "3.11.9"
  }
 },
 "nbformat": 4,
 "nbformat_minor": 5
}
